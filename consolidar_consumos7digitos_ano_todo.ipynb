{
 "cells": [
  {
   "cell_type": "code",
   "execution_count": 34,
   "id": "293c90d6",
   "metadata": {},
   "outputs": [],
   "source": [
    "import pandas as pd\n",
    "import numpy as np\n",
    "import itertools"
   ]
  },
  {
   "cell_type": "code",
   "execution_count": 35,
   "id": "c28ce9db",
   "metadata": {},
   "outputs": [
    {
     "data": {
      "text/html": [
       "<div>\n",
       "<style scoped>\n",
       "    .dataframe tbody tr th:only-of-type {\n",
       "        vertical-align: middle;\n",
       "    }\n",
       "\n",
       "    .dataframe tbody tr th {\n",
       "        vertical-align: top;\n",
       "    }\n",
       "\n",
       "    .dataframe thead th {\n",
       "        text-align: right;\n",
       "    }\n",
       "</style>\n",
       "<table border=\"1\" class=\"dataframe\">\n",
       "  <thead>\n",
       "    <tr style=\"text-align: right;\">\n",
       "      <th></th>\n",
       "      <th>Código Postal</th>\n",
       "      <th>Energia ativa (kWh)</th>\n",
       "      <th>Hora</th>\n",
       "      <th>Código Postal 4 Dígitos</th>\n",
       "      <th>Código Postal 3 Dígitos</th>\n",
       "      <th>Dia</th>\n",
       "    </tr>\n",
       "  </thead>\n",
       "  <tbody>\n",
       "    <tr>\n",
       "      <th>0</th>\n",
       "      <td>3000-003</td>\n",
       "      <td>32.061177</td>\n",
       "      <td>0</td>\n",
       "      <td>3000</td>\n",
       "      <td>003</td>\n",
       "      <td>02-01</td>\n",
       "    </tr>\n",
       "    <tr>\n",
       "      <th>1</th>\n",
       "      <td>3000-003</td>\n",
       "      <td>26.345827</td>\n",
       "      <td>1</td>\n",
       "      <td>3000</td>\n",
       "      <td>003</td>\n",
       "      <td>02-01</td>\n",
       "    </tr>\n",
       "    <tr>\n",
       "      <th>2</th>\n",
       "      <td>3000-003</td>\n",
       "      <td>24.484873</td>\n",
       "      <td>2</td>\n",
       "      <td>3000</td>\n",
       "      <td>003</td>\n",
       "      <td>02-01</td>\n",
       "    </tr>\n",
       "    <tr>\n",
       "      <th>3</th>\n",
       "      <td>3000-003</td>\n",
       "      <td>22.702250</td>\n",
       "      <td>3</td>\n",
       "      <td>3000</td>\n",
       "      <td>003</td>\n",
       "      <td>02-01</td>\n",
       "    </tr>\n",
       "    <tr>\n",
       "      <th>4</th>\n",
       "      <td>3000-003</td>\n",
       "      <td>20.844550</td>\n",
       "      <td>4</td>\n",
       "      <td>3000</td>\n",
       "      <td>003</td>\n",
       "      <td>02-01</td>\n",
       "    </tr>\n",
       "  </tbody>\n",
       "</table>\n",
       "</div>"
      ],
      "text/plain": [
       "  Código Postal  Energia ativa (kWh)  Hora  Código Postal 4 Dígitos  \\\n",
       "0      3000-003            32.061177     0                     3000   \n",
       "1      3000-003            26.345827     1                     3000   \n",
       "2      3000-003            24.484873     2                     3000   \n",
       "3      3000-003            22.702250     3                     3000   \n",
       "4      3000-003            20.844550     4                     3000   \n",
       "\n",
       "  Código Postal 3 Dígitos    Dia  \n",
       "0                     003  02-01  \n",
       "1                     003  02-01  \n",
       "2                     003  02-01  \n",
       "3                     003  02-01  \n",
       "4                     003  02-01  "
      ]
     },
     "execution_count": 35,
     "metadata": {},
     "output_type": "execute_result"
    }
   ],
   "source": [
    "# \"Puxar\" dados 7 dígitos fevereiro\n",
    "consumos_7digitos_fevereiro = pd.read_csv(r\"./dados/consumos_completos_fevereiro_cp_7_digitos.csv\").drop(columns=[\"Unnamed: 0\"])\n",
    "consumos_7digitos_fevereiro[\"Código Postal 3 Dígitos\"] = consumos_7digitos_fevereiro[\"Código Postal\"].str.split(\"-\").str[1]\n",
    "consumos_7digitos_fevereiro.head()"
   ]
  },
  {
   "cell_type": "code",
   "execution_count": 36,
   "id": "7e0cdb75",
   "metadata": {},
   "outputs": [
    {
     "data": {
      "text/html": [
       "<div>\n",
       "<style scoped>\n",
       "    .dataframe tbody tr th:only-of-type {\n",
       "        vertical-align: middle;\n",
       "    }\n",
       "\n",
       "    .dataframe tbody tr th {\n",
       "        vertical-align: top;\n",
       "    }\n",
       "\n",
       "    .dataframe thead th {\n",
       "        text-align: right;\n",
       "    }\n",
       "</style>\n",
       "<table border=\"1\" class=\"dataframe\">\n",
       "  <thead>\n",
       "    <tr style=\"text-align: right;\">\n",
       "      <th></th>\n",
       "      <th>Código Postal</th>\n",
       "      <th>Dia_MM_DD</th>\n",
       "      <th>Valor_Normalizado</th>\n",
       "    </tr>\n",
       "  </thead>\n",
       "  <tbody>\n",
       "    <tr>\n",
       "      <th>0</th>\n",
       "      <td>3000</td>\n",
       "      <td>01-01</td>\n",
       "      <td>0.641843</td>\n",
       "    </tr>\n",
       "    <tr>\n",
       "      <th>1</th>\n",
       "      <td>3000</td>\n",
       "      <td>01-02</td>\n",
       "      <td>0.778192</td>\n",
       "    </tr>\n",
       "    <tr>\n",
       "      <th>2</th>\n",
       "      <td>3000</td>\n",
       "      <td>01-03</td>\n",
       "      <td>0.967029</td>\n",
       "    </tr>\n",
       "    <tr>\n",
       "      <th>3</th>\n",
       "      <td>3000</td>\n",
       "      <td>01-04</td>\n",
       "      <td>1.009368</td>\n",
       "    </tr>\n",
       "    <tr>\n",
       "      <th>4</th>\n",
       "      <td>3000</td>\n",
       "      <td>01-05</td>\n",
       "      <td>1.032455</td>\n",
       "    </tr>\n",
       "  </tbody>\n",
       "</table>\n",
       "</div>"
      ],
      "text/plain": [
       "   Código Postal Dia_MM_DD  Valor_Normalizado\n",
       "0           3000     01-01           0.641843\n",
       "1           3000     01-02           0.778192\n",
       "2           3000     01-03           0.967029\n",
       "3           3000     01-04           1.009368\n",
       "4           3000     01-05           1.032455"
      ]
     },
     "execution_count": 36,
     "metadata": {},
     "output_type": "execute_result"
    }
   ],
   "source": [
    "# \"Puxar\" dados 4 dígitos normalizados\n",
    "consumos_4digitos_normalizados = pd.read_csv(r\"./dados/consumo_diario_normalizado_cp4digitos.csv\").drop(columns=[\"Unnamed: 0\"])\n",
    "consumos_4digitos_normalizados.head()"
   ]
  },
  {
   "cell_type": "code",
   "execution_count": 37,
   "id": "09f7fc16",
   "metadata": {},
   "outputs": [],
   "source": [
    "# Gerar todos os pares de dia-mês (exceto 29/02)\n",
    "all_days = pd.date_range(\"2025-01-01\", \"2025-12-31\", freq='D')\n",
    "all_days = all_days[~((all_days.month == 2) & (all_days.day == 29))]  # remover 29/02\n",
    "all_day_strings = all_days.strftime(\"%m-%d\")\n",
    "\n",
    "# Gerar todas as combinações Dia, Hora\n",
    "all_hours = list(range(24))\n",
    "all_day_hour_combinations = list(itertools.product(all_day_strings, all_hours))\n",
    "\n",
    "# Obter todos os códigos postais únicos\n",
    "codigos_postais = consumos_7digitos_fevereiro[\"Código Postal\"].unique()\n",
    "\n",
    "# Criar dataframe completo de referência\n",
    "full_index = pd.MultiIndex.from_product(\n",
    "    [codigos_postais, all_day_strings, all_hours],\n",
    "    names=[\"Código Postal\", \"Dia\", \"Hora\"]\n",
    ")\n",
    "df_base = pd.DataFrame(index=full_index).reset_index()\n",
    "\n",
    "# Extrair valores de 10 de fevereiro\n",
    "feb_10 = consumos_7digitos_fevereiro[consumos_7digitos_fevereiro[\"Dia\"] == \"02-10\"]\n",
    "\n",
    "# Juntar com base para cada código postal\n",
    "df_base = df_base.merge(\n",
    "    feb_10[[\"Código Postal\", \"Hora\", \"Energia ativa (kWh)\"]],\n",
    "    on=[\"Código Postal\", \"Hora\"],\n",
    "    how=\"left\",\n",
    "    suffixes=(\"\", \"_feb10\")\n",
    ")\n",
    "\n",
    "# Adicionar coluna \"Código Postal 4 Dígitos\"\n",
    "df_base[\"Código Postal 4 Dígitos\"] = df_base[\"Código Postal\"].str[:4]\n",
    "\n",
    "# Converter para string ambos os lados do merge\n",
    "df_base[\"Código Postal 4 Dígitos\"] = df_base[\"Código Postal\"].str[:4]\n",
    "consumos_4digitos_normalizados[\"Código Postal\"] = consumos_4digitos_normalizados[\"Código Postal\"].astype(str)\n",
    "\n",
    "# Juntar com normalização\n",
    "df_base = df_base.merge(\n",
    "    consumos_4digitos_normalizados,\n",
    "    left_on=[\"Código Postal 4 Dígitos\", \"Dia\"],\n",
    "    right_on=[\"Código Postal\", \"Dia_MM_DD\"],\n",
    "    how=\"left\",\n",
    "    suffixes=(\"\", \"_norm\")\n",
    ")\n",
    "\n",
    "# Calcular energia estimada\n",
    "df_base[\"Energia ativa (kWh)\"] = df_base[\"Energia ativa (kWh)\"] * df_base[\"Valor_Normalizado\"]\n",
    "\n",
    "# Selecionar colunas finais\n",
    "df_resultado = df_base[[\"Código Postal\", \"Dia\", \"Hora\", \"Energia ativa (kWh)\"]]\n",
    "\n",
    "# Se desejar, você pode agora concatenar este com os dados reais de fevereiro\n",
    "# consumos_completos = pd.concat([consumos_7digitos_fevereiro, df_resultado[~...]])\n"
   ]
  },
  {
   "cell_type": "code",
   "execution_count": 38,
   "id": "8b7a58e7",
   "metadata": {},
   "outputs": [
    {
     "data": {
      "text/html": [
       "<div>\n",
       "<style scoped>\n",
       "    .dataframe tbody tr th:only-of-type {\n",
       "        vertical-align: middle;\n",
       "    }\n",
       "\n",
       "    .dataframe tbody tr th {\n",
       "        vertical-align: top;\n",
       "    }\n",
       "\n",
       "    .dataframe thead th {\n",
       "        text-align: right;\n",
       "    }\n",
       "</style>\n",
       "<table border=\"1\" class=\"dataframe\">\n",
       "  <thead>\n",
       "    <tr style=\"text-align: right;\">\n",
       "      <th></th>\n",
       "      <th>Código Postal</th>\n",
       "      <th>Dia</th>\n",
       "      <th>Hora</th>\n",
       "      <th>Energia ativa (kWh)</th>\n",
       "    </tr>\n",
       "  </thead>\n",
       "  <tbody>\n",
       "    <tr>\n",
       "      <th>0</th>\n",
       "      <td>3000-003</td>\n",
       "      <td>01-01</td>\n",
       "      <td>0</td>\n",
       "      <td>17.830388</td>\n",
       "    </tr>\n",
       "    <tr>\n",
       "      <th>1</th>\n",
       "      <td>3000-003</td>\n",
       "      <td>01-01</td>\n",
       "      <td>1</td>\n",
       "      <td>18.472971</td>\n",
       "    </tr>\n",
       "    <tr>\n",
       "      <th>2</th>\n",
       "      <td>3000-003</td>\n",
       "      <td>01-01</td>\n",
       "      <td>2</td>\n",
       "      <td>16.846703</td>\n",
       "    </tr>\n",
       "    <tr>\n",
       "      <th>3</th>\n",
       "      <td>3000-003</td>\n",
       "      <td>01-01</td>\n",
       "      <td>3</td>\n",
       "      <td>16.743939</td>\n",
       "    </tr>\n",
       "    <tr>\n",
       "      <th>4</th>\n",
       "      <td>3000-003</td>\n",
       "      <td>01-01</td>\n",
       "      <td>4</td>\n",
       "      <td>15.158303</td>\n",
       "    </tr>\n",
       "  </tbody>\n",
       "</table>\n",
       "</div>"
      ],
      "text/plain": [
       "  Código Postal    Dia  Hora  Energia ativa (kWh)\n",
       "0      3000-003  01-01     0            17.830388\n",
       "1      3000-003  01-01     1            18.472971\n",
       "2      3000-003  01-01     2            16.846703\n",
       "3      3000-003  01-01     3            16.743939\n",
       "4      3000-003  01-01     4            15.158303"
      ]
     },
     "execution_count": 38,
     "metadata": {},
     "output_type": "execute_result"
    }
   ],
   "source": [
    "df_resultado.head()"
   ]
  },
  {
   "cell_type": "code",
   "execution_count": 40,
   "id": "3ef8062a",
   "metadata": {},
   "outputs": [
    {
     "data": {
      "text/plain": [
       "array(['3000-003', '3000-005', '3000-007', ..., '3060-853', '3060-855',\n",
       "       '3060-857'], shape=(1325,), dtype=object)"
      ]
     },
     "execution_count": 40,
     "metadata": {},
     "output_type": "execute_result"
    }
   ],
   "source": [
    "df_resultado[\"Código Postal\"].unique()"
   ]
  },
  {
   "cell_type": "code",
   "execution_count": 46,
   "id": "0eef4f75",
   "metadata": {},
   "outputs": [
    {
     "data": {
      "image/png": "[encoded data removed]",
      "text/plain": [
       "<Figure size 1500x500 with 1 Axes>"
      ]
     },
     "metadata": {},
     "output_type": "display_data"
    }
   ],
   "source": [
    "import matplotlib.pyplot as plt\n",
    "\n",
    "# Separar um código postal aleatório\n",
    "df_cp = df_resultado[df_resultado[\"Código Postal\"] == \"3060-855\"]\n",
    "\n",
    "# Plotar os dados\n",
    "plt.figure(figsize=(15, 5))\n",
    "\n",
    "# Plotar dados reais (setembro e novembro)\n",
    "plt.plot(df_cp[\"Energia ativa (kWh)\"])\n",
    "plt.show()"
   ]
  },
  {
   "cell_type": "code",
   "execution_count": 44,
   "id": "9ba19617",
   "metadata": {},
   "outputs": [],
   "source": [
    "df_resultado.to_csv(r\"./dados/consumos_horarios_7digitos_anotodo.csv\")"
   ]
  }
 ],
 "metadata": {
  "kernelspec": {
   "display_name": "nlp",
   "language": "python",
   "name": "python3"
  },
  "language_info": {
   "codemirror_mode": {
    "name": "ipython",
    "version": 3
   },
   "file_extension": ".py",
   "mimetype": "text/x-python",
   "name": "python",
   "nbconvert_exporter": "python",
   "pygments_lexer": "ipython3",
   "version": "3.13.2"
  }
 },
 "nbformat": 4,
 "nbformat_minor": 5
}
