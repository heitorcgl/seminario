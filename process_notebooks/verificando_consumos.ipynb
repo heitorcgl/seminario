{
 "cells": [
  {
   "cell_type": "code",
   "execution_count": 1,
   "id": "bcf13432",
   "metadata": {},
   "outputs": [],
   "source": [
    "# Bibliotecas padrão\n",
    "import pandas as pd\n",
    "import numpy as np\n",
    "import matplotlib.pyplot as plt\n",
    "import seaborn as sns\n",
    "import requests\n",
    "import urllib.parse\n",
    "\n",
    "# Módulos para a parte espacial\n",
    "import geopandas as gpd\n",
    "from geopy.geocoders import Nominatim\n",
    "from shapely.geometry import Point\n",
    "from shapely import wkt"
   ]
  },
  {
   "cell_type": "code",
   "execution_count": 2,
   "id": "850ef935",
   "metadata": {},
   "outputs": [
    {
     "name": "stdout",
     "output_type": "stream",
     "text": [
      "   index_cp cod_postal          dd_desig  \\\n",
      "0     16910   2520-627            Leiria   \n",
      "1     97890   4910-477  Viana do Castelo   \n",
      "2     97863   4910-443  Viana do Castelo   \n",
      "3     97842   4910-384  Viana do Castelo   \n",
      "4     18901   2560-574            Lisboa   \n",
      "\n",
      "                                            cc_desig   llll  \\\n",
      "0  Peniche                                       ...  35331   \n",
      "1  Caminha                                       ...  11613   \n",
      "2  Caminha                                       ...  11613   \n",
      "3  Caminha                                       ...  11613   \n",
      "4  Torres Vedras                                 ...  47802   \n",
      "\n",
      "             LOCALIDADE   CP4  CP3                 CPALF   LATITUDE  \\\n",
      "0               Peniche  2520  627               PENICHE  39.361790   \n",
      "1  Vila Praia de Âncora  4910  477  VILA PRAIA DE ÂNCORA  41.824709   \n",
      "2  Vila Praia de Âncora  4910  443  VILA PRAIA DE ÂNCORA  41.825478   \n",
      "3  Vila Praia de Âncora  4910  384  VILA PRAIA DE ÂNCORA  41.825204   \n",
      "4         Torres Vedras  2560  574         TORRES VEDRAS  39.097084   \n",
      "\n",
      "   LONGITUDE                                     scannedAddress  index_ptd  \\\n",
      "0  -9.373754            Rua Escola de Pesca, Peniche,Portugal|1          0   \n",
      "1  -8.871383  rua da cruz velha, vila praia de Âncora,Portug...          1   \n",
      "2  -8.869353    largo da póvoa, vila praia de Âncora,Portugal|1          1   \n",
      "3  -8.871596  rua vitorino nemésio, vila praia de Âncora,Por...          1   \n",
      "4  -9.402572  Rua Adão de Carvalho, Urbanização Industrial C...          2   \n",
      "\n",
      "    area_ptd_m2                                           geometry  \\\n",
      "0  1.433388e+05  POLYGON ((-9.50361 39.41562, -9.50367 39.41557...   \n",
      "1  5.017961e+05  POLYGON ((-8.87485 41.82319, -8.87485 41.82325...   \n",
      "2  5.017961e+05  POLYGON ((-8.87098 41.82946, -8.86814 41.82814...   \n",
      "3  5.017961e+05  POLYGON ((-8.87447 41.82415, -8.87442 41.82428...   \n",
      "4  2.133930e+06  POLYGON ((-9.41007 39.09393, -9.41004 39.09397...   \n",
      "\n",
      "   area_intersect_m2  area_cp_m2_cp  percent_area_in_ptd  \n",
      "0      143338.797188  248047.782637            57.786768  \n",
      "1        8579.535854   52369.962090            16.382551  \n",
      "2       72028.079923  714821.171488            10.076378  \n",
      "3      421188.466246  589545.634683            71.442895  \n",
      "4      104829.820339  864468.925214            12.126500  \n"
     ]
    }
   ],
   "source": [
    "# Leitura do CSV\n",
    "df_ptds = pd.read_csv(r\"./data/perc_cp_PTD.csv\")\n",
    "\n",
    "# Converter WKT para geometria\n",
    "df_ptds[\"geometry\"] = df_ptds[\"geometry\"].apply(wkt.loads)\n",
    "\n",
    "# Criar GeoDataFrame e definir o CRS original correto\n",
    "df_ptds = gpd.GeoDataFrame(df_ptds, geometry='geometry', crs=\"EPSG:3857\")\n",
    "\n",
    "# Converter para EPSG:4326 se necessário\n",
    "df_ptds = df_ptds.to_crs(\"EPSG:4326\")\n",
    "\n",
    "# Visualização\n",
    "print(df_ptds.head())"
   ]
  },
  {
   "cell_type": "code",
   "execution_count": 5,
   "id": "ad946820",
   "metadata": {},
   "outputs": [
    {
     "data": {
      "text/html": [
       "<div>\n",
       "<style scoped>\n",
       "    .dataframe tbody tr th:only-of-type {\n",
       "        vertical-align: middle;\n",
       "    }\n",
       "\n",
       "    .dataframe tbody tr th {\n",
       "        vertical-align: top;\n",
       "    }\n",
       "\n",
       "    .dataframe thead th {\n",
       "        text-align: right;\n",
       "    }\n",
       "</style>\n",
       "<table border=\"1\" class=\"dataframe\">\n",
       "  <thead>\n",
       "    <tr style=\"text-align: right;\">\n",
       "      <th></th>\n",
       "      <th>consumo</th>\n",
       "      <th>dt_consumo</th>\n",
       "      <th>datahora</th>\n",
       "      <th>codigo_4</th>\n",
       "      <th>codigo_3</th>\n",
       "      <th>hr_consumo</th>\n",
       "      <th>codigo_postal</th>\n",
       "      <th>faixa_codigo_postal</th>\n",
       "    </tr>\n",
       "  </thead>\n",
       "  <tbody>\n",
       "    <tr>\n",
       "      <th>0</th>\n",
       "      <td>119.721454</td>\n",
       "      <td>2024-02-29</td>\n",
       "      <td>2024-02-29 20:00:00+00:00</td>\n",
       "      <td>1750.0</td>\n",
       "      <td>399.0</td>\n",
       "      <td>20:00</td>\n",
       "      <td>1750-399</td>\n",
       "      <td>1000 a 2000</td>\n",
       "    </tr>\n",
       "    <tr>\n",
       "      <th>1</th>\n",
       "      <td>43.627310</td>\n",
       "      <td>2024-02-14</td>\n",
       "      <td>2024-02-14 23:00:00+00:00</td>\n",
       "      <td>1700.0</td>\n",
       "      <td>146.0</td>\n",
       "      <td>23:00</td>\n",
       "      <td>1700-146</td>\n",
       "      <td>1000 a 2000</td>\n",
       "    </tr>\n",
       "    <tr>\n",
       "      <th>2</th>\n",
       "      <td>251.238994</td>\n",
       "      <td>2024-02-19</td>\n",
       "      <td>2024-02-19 08:00:00+00:00</td>\n",
       "      <td>1070.0</td>\n",
       "      <td>26.0</td>\n",
       "      <td>08:00</td>\n",
       "      <td>1070-026</td>\n",
       "      <td>1000 a 2000</td>\n",
       "    </tr>\n",
       "    <tr>\n",
       "      <th>3</th>\n",
       "      <td>54.611730</td>\n",
       "      <td>2024-02-21</td>\n",
       "      <td>2024-02-21 22:00:00+00:00</td>\n",
       "      <td>1600.0</td>\n",
       "      <td>57.0</td>\n",
       "      <td>22:00</td>\n",
       "      <td>1600-057</td>\n",
       "      <td>1000 a 2000</td>\n",
       "    </tr>\n",
       "    <tr>\n",
       "      <th>4</th>\n",
       "      <td>64.653863</td>\n",
       "      <td>2024-02-24</td>\n",
       "      <td>2024-02-24 10:00:00+00:00</td>\n",
       "      <td>1050.0</td>\n",
       "      <td>48.0</td>\n",
       "      <td>10:00</td>\n",
       "      <td>1050-048</td>\n",
       "      <td>1000 a 2000</td>\n",
       "    </tr>\n",
       "  </tbody>\n",
       "</table>\n",
       "</div>"
      ],
      "text/plain": [
       "      consumo  dt_consumo                  datahora  codigo_4  codigo_3  \\\n",
       "0  119.721454  2024-02-29 2024-02-29 20:00:00+00:00    1750.0     399.0   \n",
       "1   43.627310  2024-02-14 2024-02-14 23:00:00+00:00    1700.0     146.0   \n",
       "2  251.238994  2024-02-19 2024-02-19 08:00:00+00:00    1070.0      26.0   \n",
       "3   54.611730  2024-02-21 2024-02-21 22:00:00+00:00    1600.0      57.0   \n",
       "4   64.653863  2024-02-24 2024-02-24 10:00:00+00:00    1050.0      48.0   \n",
       "\n",
       "  hr_consumo codigo_postal faixa_codigo_postal  \n",
       "0      20:00      1750-399         1000 a 2000  \n",
       "1      23:00      1700-146         1000 a 2000  \n",
       "2      08:00      1070-026         1000 a 2000  \n",
       "3      22:00      1600-057         1000 a 2000  \n",
       "4      10:00      1050-048         1000 a 2000  "
      ]
     },
     "execution_count": 5,
     "metadata": {},
     "output_type": "execute_result"
    }
   ],
   "source": [
    "df_consumos = pd.read_csv(r\".\\data\\consumos_por_codigos_postais_allpt.csv\")\n",
    "df_consumos[\"datahora\"] = pd.to_datetime(df_consumos[\"datahora\"])\n",
    "df_consumos.head()"
   ]
  },
  {
   "cell_type": "code",
   "execution_count": 7,
   "id": "4db4edb7",
   "metadata": {},
   "outputs": [
    {
     "name": "stdout",
     "output_type": "stream",
     "text": [
      "Index(['index_cp', 'cod_postal', 'dd_desig', 'cc_desig', 'llll', 'LOCALIDADE',\n",
      "       'CP4', 'CP3', 'CPALF', 'LATITUDE', 'LONGITUDE', 'scannedAddress',\n",
      "       'index_ptd', 'area_ptd_m2', 'geometry', 'area_intersect_m2',\n",
      "       'area_cp_m2_cp', 'percent_area_in_ptd'],\n",
      "      dtype='object')\n"
     ]
    }
   ],
   "source": [
    "print(df_ptds.columns)"
   ]
  },
  {
   "cell_type": "code",
   "execution_count": 8,
   "id": "49f1f6b9",
   "metadata": {},
   "outputs": [
    {
     "name": "stdout",
     "output_type": "stream",
     "text": [
      "Index(['consumo', 'dt_consumo', 'datahora', 'codigo_4', 'codigo_3',\n",
      "       'hr_consumo', 'codigo_postal', 'faixa_codigo_postal'],\n",
      "      dtype='object')\n"
     ]
    }
   ],
   "source": [
    "print(df_consumos.columns)"
   ]
  },
  {
   "cell_type": "code",
   "execution_count": 14,
   "id": "adf12688",
   "metadata": {},
   "outputs": [
    {
     "name": "stderr",
     "output_type": "stream",
     "text": [
      "C:\\Users\\toto9\\AppData\\Local\\Temp\\ipykernel_17264\\1066736332.py:2: FutureWarning: 'H' is deprecated and will be removed in a future version, please use 'h' instead.\n",
      "  hora_inicio = df_consumos['datahora'].min().floor('H')\n",
      "C:\\Users\\toto9\\AppData\\Local\\Temp\\ipykernel_17264\\1066736332.py:3: FutureWarning: 'H' is deprecated and will be removed in a future version, please use 'h' instead.\n",
      "  hora_fim    = df_consumos['datahora'].max().ceil('H')\n",
      "C:\\Users\\toto9\\AppData\\Local\\Temp\\ipykernel_17264\\1066736332.py:4: FutureWarning: 'H' is deprecated and will be removed in a future version, please use 'h' instead.\n",
      "  todas_horas = pd.date_range(start=hora_inicio, end=hora_fim, freq='H')\n"
     ]
    }
   ],
   "source": [
    "# 1. Obter intervalo completo de horas no mês (min-max de datahora)\n",
    "hora_inicio = df_consumos['datahora'].min().floor('H')\n",
    "hora_fim    = df_consumos['datahora'].max().ceil('H')\n",
    "todas_horas = pd.date_range(start=hora_inicio, end=hora_fim, freq='H')\n",
    "\n",
    "# 2. Obter todos os index_ptd únicos\n",
    "todos_ptds = df_ptds['index_ptd'].unique()\n",
    "\n",
    "# 3. Criar MultiIndex com todas as combinações possíveis (produto cartesiano)\n",
    "idx_completo = pd.MultiIndex.from_product(\n",
    "    [todos_ptds, todas_horas],\n",
    "    names=['index_ptd', 'datahora']\n",
    ")\n",
    "\n",
    "# 4. Definir o índice do DataFrame original e reindexar com o MultiIndex completo\n",
    "df_completo = (\n",
    "    df_consumo_horario_ptd\n",
    "      .set_index(['index_ptd', 'datahora'])\n",
    "      .reindex(idx_completo)\n",
    "      .reset_index()\n",
    ")"
   ]
  },
  {
   "cell_type": "code",
   "execution_count": 16,
   "id": "de2de9b4",
   "metadata": {},
   "outputs": [
    {
     "name": "stdout",
     "output_type": "stream",
     "text": [
      "Proporção de index_ptd com valores nulos: 100.00%\n"
     ]
    }
   ],
   "source": [
    "# Verifica quais index_ptd têm pelo menos um valor nulo no consumo_horario\n",
    "ptd_com_nulos = df_completo.groupby('index_ptd')['consumo_horario'].apply(lambda x: x.isnull().any())\n",
    "\n",
    "# Calcula a proporção (normalize=True) de index_ptd com valores nulos\n",
    "proporcao_nulos = ptd_com_nulos.value_counts(normalize=True).get(True, 0.0)\n",
    "\n",
    "print(f'Proporção de index_ptd com valores nulos: {proporcao_nulos:.2%}')"
   ]
  },
  {
   "cell_type": "code",
   "execution_count": 17,
   "id": "5c4b4a5d",
   "metadata": {},
   "outputs": [
    {
     "data": {
      "text/html": [
       "<div>\n",
       "<style scoped>\n",
       "    .dataframe tbody tr th:only-of-type {\n",
       "        vertical-align: middle;\n",
       "    }\n",
       "\n",
       "    .dataframe tbody tr th {\n",
       "        vertical-align: top;\n",
       "    }\n",
       "\n",
       "    .dataframe thead th {\n",
       "        text-align: right;\n",
       "    }\n",
       "</style>\n",
       "<table border=\"1\" class=\"dataframe\">\n",
       "  <thead>\n",
       "    <tr style=\"text-align: right;\">\n",
       "      <th></th>\n",
       "      <th>index_ptd</th>\n",
       "      <th>datahora</th>\n",
       "      <th>consumo_horario</th>\n",
       "    </tr>\n",
       "  </thead>\n",
       "  <tbody>\n",
       "    <tr>\n",
       "      <th>0</th>\n",
       "      <td>0</td>\n",
       "      <td>2024-02-01 00:00:00+00:00</td>\n",
       "      <td>NaN</td>\n",
       "    </tr>\n",
       "    <tr>\n",
       "      <th>1</th>\n",
       "      <td>0</td>\n",
       "      <td>2024-02-01 01:00:00+00:00</td>\n",
       "      <td>NaN</td>\n",
       "    </tr>\n",
       "    <tr>\n",
       "      <th>2</th>\n",
       "      <td>0</td>\n",
       "      <td>2024-02-01 02:00:00+00:00</td>\n",
       "      <td>NaN</td>\n",
       "    </tr>\n",
       "    <tr>\n",
       "      <th>3</th>\n",
       "      <td>0</td>\n",
       "      <td>2024-02-01 03:00:00+00:00</td>\n",
       "      <td>NaN</td>\n",
       "    </tr>\n",
       "    <tr>\n",
       "      <th>4</th>\n",
       "      <td>0</td>\n",
       "      <td>2024-02-01 04:00:00+00:00</td>\n",
       "      <td>NaN</td>\n",
       "    </tr>\n",
       "  </tbody>\n",
       "</table>\n",
       "</div>"
      ],
      "text/plain": [
       "   index_ptd                  datahora  consumo_horario\n",
       "0          0 2024-02-01 00:00:00+00:00              NaN\n",
       "1          0 2024-02-01 01:00:00+00:00              NaN\n",
       "2          0 2024-02-01 02:00:00+00:00              NaN\n",
       "3          0 2024-02-01 03:00:00+00:00              NaN\n",
       "4          0 2024-02-01 04:00:00+00:00              NaN"
      ]
     },
     "execution_count": 17,
     "metadata": {},
     "output_type": "execute_result"
    }
   ],
   "source": [
    "df_completo.head()"
   ]
  },
  {
   "cell_type": "code",
   "execution_count": 21,
   "id": "9353dd52",
   "metadata": {},
   "outputs": [
    {
     "name": "stdout",
     "output_type": "stream",
     "text": [
      "Proporção de index_ptd com >=35 valores nulos: 100.00000000%\n"
     ]
    }
   ],
   "source": [
    "# Verifica quais index_ptd têm pelo menos 5 valores nulos no consumo_horario\n",
    "ptd_com_5_nulos = df_completo.groupby('index_ptd')['consumo_horario'].apply(lambda x: x.isnull().sum() >= 35)\n",
    "\n",
    "# Calcula a proporção (normalize=True) de index_ptd com 5 ou mais valores nulos\n",
    "proporcao_5_nulos = ptd_com_5_nulos.value_counts(normalize=True).get(True, 0.0)\n",
    "\n",
    "print(f'Proporção de index_ptd com >=35 valores nulos: {proporcao_5_nulos:.8%}')"
   ]
  }
 ],
 "metadata": {
  "kernelspec": {
   "display_name": "ETE",
   "language": "python",
   "name": "python3"
  },
  "language_info": {
   "codemirror_mode": {
    "name": "ipython",
    "version": 3
   },
   "file_extension": ".py",
   "mimetype": "text/x-python",
   "name": "python",
   "nbconvert_exporter": "python",
   "pygments_lexer": "ipython3",
   "version": "3.12.8"
  }
 },
 "nbformat": 4,
 "nbformat_minor": 5
}
